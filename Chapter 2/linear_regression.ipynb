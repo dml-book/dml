{
 "cells": [
  {
   "cell_type": "markdown",
   "metadata": {
    "id": "mxImKw1UhQl7"
   },
   "source": [
    "<a href=\"https://colab.research.google.com/github/YKochura/ai-lab/blob/main/linear-regression/linear_regression.ipynb\" target=\"_parent\"><img src=\"https://colab.research.google.com/assets/colab-badge.svg\" alt=\"Open In Colab\"/></a>"
   ]
  },
  {
   "cell_type": "markdown",
   "metadata": {
    "id": "q2XBnP5_Z0pD"
   },
   "source": [
    "**Лінійна регресія** &mdash; статистичний регресійний метод, який застосовують для моделювання взаємозв'язку між скалярною залежною змінною $\\hat{y}$ та однією або кількома незалежними змінними $\\boldsymbol X$. \n",
    "\n",
    "Наприклад, ми можемо за допомогою лінійної регресії передбачати значення неперервної залежної змінної: температуру повітря, ціну акацій, тощо, використовуючи додаткову інформацію, яка характеризує задачу і представлена  в незалежній змінній $\\boldsymbol X$. Ця додаткова інформація представляє собою набір вхідних ознак за якими буде здійснюватись моделювання.\n",
    " "
   ]
  },
  {
   "cell_type": "markdown",
   "metadata": {
    "id": "b_Lh31rnBI5b",
    "tags": [
     "graph"
    ]
   },
   "source": [
    "# Модель лінійної регресії\n",
    "\n",
    "![](https://docs.google.com/uc?export=download&id=1FAY4ZeGCJ1n14d14LtivoYDsz-LhgUpH)\n",
    "\n",
    "Метод лінійної регресії полягає у знаходженні лінійної комбінації вхідних ознак (зважена сума) з урахуванням зміщення.\n",
    "\n",
    "$$\\hat y = z = \\sum_{i=1}^n w_i x_i  + b$$\n",
    "\n",
    "\n"
   ]
  },
  {
   "cell_type": "markdown",
   "metadata": {
    "id": "sfQwoDlx-YHi"
   },
   "source": [
    "Для вирішення задачі\n",
    "\n",
    "**Дано:**\n",
    "\n",
    "- Навчальний набір: $\\{(\\boldsymbol{X}^{(1)}, y^{(1)}), (\\boldsymbol{X}^{(2)}, y^{(2)}),..., (\\boldsymbol{X}^{(n)}, y^{(n)})\\}$\n",
    "\n",
    "  - де $\\boldsymbol{X}^{(i)}$ &mdash;  $i$-й навчальний приклад. Є $m$-вимірним вектором-стовпцем $\\boldsymbol{X}^{(i)} = (x^{(i)}_1, x^{(i)}_2, ..., x^{(i)}_m)$\n",
    "  - $n$ &mdash; загальна кількість навчальних прикладів\n",
    "  - $y^{(i)}$ &mdash; дійсне цільове значення $i$-го навчального прикладу , $y^{(i)} \\in \\mathbb{R}$\n",
    "\n",
    "Модель лінійної регресії: \n",
    "\n",
    "- має вектор-рядок дійсних значень ваг $\\boldsymbol{W} = \\begin{bmatrix}\n",
    "w_1 & w_2 & \\cdots & w_m\n",
    "\\end{bmatrix}$\n",
    "- має дійсне значення зміщення $b$\n"
   ]
  },
  {
   "cell_type": "markdown",
   "metadata": {
    "id": "5wtEFeieFmwI"
   },
   "source": [
    "# Навчання\n",
    "\n",
    "Ми можемо навчити модель, використовуючи градієнтний спуск. Фактично, **градієнтний спуск** або будь-який інший алгоритм оптимізації дозволяє знайти глобальний мінімум цільової функції, якщо підбрано оптимальну швидкість навчання та виконано достатню кількість ітерацій навчання. \n",
    "\n",
    "Навчання лінійної регресії має різні етапи. На початку (крок 0) ініціалізуються параметри моделі. Інші кроки повторюються протягом певної кількості епох (навчальних ітерацій). \n",
    "\n",
    "**Крок 0:** Ініціалізувати ваги та зсув (наприклад, випадковими значеннями з нормального розподілу)\n",
    "\n",
    "**Крок 1:** Обчислити лінійну комбінацію вхідних ознак та ваг і додати зсув.  Це можна зробити за один крок для всіх навчальних прикладів, використовуючи [векторизацію (vectorization)](https://www.geeksforgeeks.org/vectorization-in-python/) та  [трансляцію (broadcasting)](https://www.geeksforgeeks.org/python-broadcasting-with-numpy-arrays/)\n",
    "\n",
    "$$z = W \\cdot X + b$$\n",
    "\n",
    "де $\\cdot$ скалярний добуток (поелементний добуток), $W$ &mdash;  вектор-рядок ваг з формою $(1, m)$, $X$ &mdash; матриця форми $(m, n)$.\n",
    "\n",
    "\n",
    "**Крок 2:** Обчислити усереднену втрату на всьому навчальному наборі даних. Функцію, яка визначає усереднені втрати на всьому навчальному наборі даних, часто називають цільовою функцією або імпіричним ризиком. Основна задача оптимізаційного алгоритму &mdash;  мінімізувати у процесі навчання цільову функцію на стільки, на скільки це можливо, не втрачаючи при цьому здатності моделі узагальнювати на нових даних. Для лінійної регресії будемо розраховувати середнє квадратичне відхилення:\n",
    "\n",
    "$$\\mathcal{J}(\\hat y,y)  = \\frac{1}{n} \\sum_{i=1}^n \\Big(\\hat{y}^{(i)} -  y^{(i)} \\Big)^2$$\n",
    "\n",
    "**Крок 3:** Розрахувати градієнти цільвої функції відносно ваг та зсуву:\n",
    "\n",
    "$$\\boxed{\\begin{aligned}\n",
    "\\frac{\\partial \\mathcal{J}(\\hat y, y)}{\\partial \\hat y} &= \\frac{2}{n} \\sum_{i=1}^n \\Big(\\hat{y}^{(i)} -  y^{(i)} \\Big) x^{(i)}   \\\\[12pt]\n",
    "\\frac{\\partial \\mathcal{J}(\\hat y, y)}{\\partial b} &=  \\frac{2}{n} \\sum_{i=1}^n \\Big(\\hat{y}^{(i)} -  y^{(i)} \\Big)\n",
    "\\end{aligned}}$$\n",
    "\n",
    "**Крок 4:** Оновити ваги та зсув моделі:\n",
    "\n",
    "$$\\boxed{\\begin{aligned}\n",
    "W &= W - \\alpha \\frac{\\partial \\mathcal{L}(\\hat y, y)}{\\partial W} \\\\[12pt]\n",
    "b &= b - \\alpha \\frac{\\partial \\mathcal{L}(\\hat y, y)}{\\partial b}\n",
    "\\end{aligned}}$$\n",
    "\n",
    "де $\\alpha$ &mdash; швидкість навчання (крок навчання)."
   ]
  },
  {
   "cell_type": "markdown",
   "metadata": {
    "id": "WU31wxOL_iBb"
   },
   "source": [
    "# Імпортупвання бібліотек"
   ]
  },
  {
   "cell_type": "code",
   "execution_count": 1,
   "metadata": {
    "id": "19xicNjUYyKR"
   },
   "outputs": [],
   "source": [
    "import numpy as np\n",
    "import matplotlib.pyplot as plt\n",
    "from sklearn.model_selection import train_test_split\n",
    "\n",
    "np.random.seed(123)"
   ]
  },
  {
   "cell_type": "markdown",
   "metadata": {
    "id": "bRVwKii8_98N"
   },
   "source": [
    "## Датасет"
   ]
  },
  {
   "cell_type": "code",
   "execution_count": 2,
   "metadata": {
    "colab": {
     "base_uri": "https://localhost:8080/",
     "height": 406
    },
    "id": "m1UzCusBypep",
    "outputId": "7bec3c13-39b0-4682-a1a3-6d47a0affda5"
   },
   "outputs": [
    {
     "data": {
      "image/png": "[encoded data removed]",
      "text/plain": [
       "<Figure size 576x432 with 1 Axes>"
      ]
     },
     "metadata": {
      "needs_background": "light"
     },
     "output_type": "display_data"
    }
   ],
   "source": [
    "# We will use a simple training set\n",
    "X = 2 * np.random.rand(500, 1)\n",
    "y = 5 + 3 * X + np.random.randn(500, 1)\n",
    "\n",
    "fig = plt.figure(figsize=(8,6))\n",
    "plt.scatter(X, y)\n",
    "plt.title(\"Набір даних\")\n",
    "plt.xlabel(\"$X$\")\n",
    "plt.ylabel(\"$y$\")\n",
    "plt.show()"
   ]
  },
  {
   "cell_type": "markdown",
   "metadata": {
    "id": "Df9GYUGXBDH9"
   },
   "source": [
    "## Поділ набору даних"
   ]
  },
  {
   "cell_type": "code",
   "execution_count": 3,
   "metadata": {
    "colab": {
     "base_uri": "https://localhost:8080/"
    },
    "id": "y_eclhoHTp1F",
    "outputId": "83dcf668-ac75-4a7e-e5ab-7c110bea13cb"
   },
   "outputs": [
    {
     "name": "stdout",
     "output_type": "stream",
     "text": [
      "Shape X_train: (375, 1)\n",
      "Shape y_train: (375, 1)\n",
      "Shape X_test: (125, 1)\n",
      "Shape y_test: (125, 1)\n"
     ]
    }
   ],
   "source": [
    "# Split the data into a training and test set\n",
    "X_train, X_test, y_train, y_test = train_test_split(X, y)\n",
    "\n",
    "print(f'Shape X_train: {X_train.shape}')\n",
    "print(f'Shape y_train: {y_train.shape}')\n",
    "print(f'Shape X_test: {X_test.shape}')\n",
    "print(f'Shape y_test: {y_test.shape}')"
   ]
  },
  {
   "cell_type": "code",
   "execution_count": 4,
   "metadata": {
    "id": "AX1vxfwdibB5"
   },
   "outputs": [],
   "source": [
    "n_samples, m_features = X_train.shape"
   ]
  },
  {
   "cell_type": "code",
   "execution_count": 5,
   "metadata": {
    "colab": {
     "base_uri": "https://localhost:8080/"
    },
    "id": "n5GvnD6RV4y7",
    "outputId": "bd3e208b-ba9f-4be3-a04a-cdec6b5447d3"
   },
   "outputs": [
    {
     "data": {
      "text/plain": [
       "375"
      ]
     },
     "execution_count": 5,
     "metadata": {},
     "output_type": "execute_result"
    }
   ],
   "source": [
    "n_samples"
   ]
  },
  {
   "cell_type": "code",
   "execution_count": 6,
   "metadata": {
    "colab": {
     "base_uri": "https://localhost:8080/"
    },
    "id": "1IobjfGIV_Zl",
    "outputId": "d5c59e50-8bd2-4b78-e224-180a5dd2ac85"
   },
   "outputs": [
    {
     "data": {
      "text/plain": [
       "1"
      ]
     },
     "execution_count": 6,
     "metadata": {},
     "output_type": "execute_result"
    }
   ],
   "source": [
    "m_features"
   ]
  },
  {
   "cell_type": "markdown",
   "metadata": {
    "id": "LKNT3Y2TWMMV"
   },
   "source": [
    "## Змінюємо форму $X$ та $y$ обох вибірок\n",
    "$X = \\text{X_train}$, 𝑋 — матриця форми (𝑚, 𝑛)."
   ]
  },
  {
   "cell_type": "code",
   "execution_count": 7,
   "metadata": {
    "id": "Prp2FmnXXFGO"
   },
   "outputs": [],
   "source": [
    "X_train = X_train.reshape((m_features, n_samples))"
   ]
  },
  {
   "cell_type": "code",
   "execution_count": 8,
   "metadata": {
    "colab": {
     "base_uri": "https://localhost:8080/"
    },
    "id": "AUGjA27pSjYe",
    "outputId": "8028d574-c599-4979-c56f-278c3dc3f281"
   },
   "outputs": [
    {
     "data": {
      "text/plain": [
       "(1, 375)"
      ]
     },
     "execution_count": 8,
     "metadata": {},
     "output_type": "execute_result"
    }
   ],
   "source": [
    "X_train.shape"
   ]
  },
  {
   "cell_type": "code",
   "execution_count": 9,
   "metadata": {
    "id": "iSTdZFc4e3Ge"
   },
   "outputs": [],
   "source": [
    "X_test = X_test.reshape((X_test.shape[1], X_test.shape[0]))"
   ]
  },
  {
   "cell_type": "code",
   "execution_count": 10,
   "metadata": {
    "colab": {
     "base_uri": "https://localhost:8080/"
    },
    "id": "4KWmQx2PfP9i",
    "outputId": "175693af-5eaa-4d59-d11c-76bff0e91929"
   },
   "outputs": [
    {
     "data": {
      "text/plain": [
       "(1, 125)"
      ]
     },
     "execution_count": 10,
     "metadata": {},
     "output_type": "execute_result"
    }
   ],
   "source": [
    "X_test.shape"
   ]
  },
  {
   "cell_type": "code",
   "execution_count": 11,
   "metadata": {
    "id": "kzcvCcH4Snws"
   },
   "outputs": [],
   "source": [
    "y_train = y_train.reshape((m_features,n_samples))"
   ]
  },
  {
   "cell_type": "code",
   "execution_count": 12,
   "metadata": {
    "colab": {
     "base_uri": "https://localhost:8080/"
    },
    "id": "aZoaATzXS15a",
    "outputId": "d835f8be-65b5-4d22-98e4-053e120075f3"
   },
   "outputs": [
    {
     "data": {
      "text/plain": [
       "(1, 375)"
      ]
     },
     "execution_count": 12,
     "metadata": {},
     "output_type": "execute_result"
    }
   ],
   "source": [
    "y_train.shape"
   ]
  },
  {
   "cell_type": "code",
   "execution_count": 13,
   "metadata": {
    "id": "6KwrnTB3e0nM"
   },
   "outputs": [],
   "source": [
    "y_test = y_test.reshape((y_test.shape[1], y_test.shape[0]))"
   ]
  },
  {
   "cell_type": "code",
   "execution_count": 14,
   "metadata": {
    "colab": {
     "base_uri": "https://localhost:8080/"
    },
    "id": "8qQ-YAoMfayB",
    "outputId": "5fd5442c-ae98-494c-8d9c-8bb7fd462191"
   },
   "outputs": [
    {
     "data": {
      "text/plain": [
       "(1, 125)"
      ]
     },
     "execution_count": 14,
     "metadata": {},
     "output_type": "execute_result"
    }
   ],
   "source": [
    "y_test.shape"
   ]
  },
  {
   "cell_type": "markdown",
   "metadata": {
    "id": "Qpq48noEKJgY"
   },
   "source": [
    "### Крок 0: Ініціалізувати ваги та зсув"
   ]
  },
  {
   "cell_type": "code",
   "execution_count": 15,
   "metadata": {
    "id": "bfkqaTCL27hF",
    "tags": [
     "parameters_inititalization"
    ]
   },
   "outputs": [],
   "source": [
    "# TODO\n",
    "def parameters_inititalization(m):\n",
    "  \"\"\"\n",
    "  Ця функція ініціалізує вектор-рядок випадкових дійсних значень ваг форми (1, m),\n",
    "  отриманих з нормального розподілу та зсув (довільне дійсне значення)\n",
    "\n",
    "  Параметри:\n",
    "  m -- кількість вхідних ознак для кожного навчального прикладу \n",
    "\n",
    "  Повертає:\n",
    "  W -- вектор-рядок ваг форми (1, m)\n",
    "  b -- зсув (скаляр)\n",
    "  \"\"\"\n",
    "\n",
    "  # BEGIN_YOUR_CODE   \n",
    "  raise Exception(\"Not implemented yet\")\n",
    "  # END_YOUR_CODE"
   ]
  },
  {
   "cell_type": "code",
   "execution_count": 16,
   "metadata": {
    "id": "Cjoi0Pi0eIl9"
   },
   "outputs": [],
   "source": [
    "W, b = parameters_inititalization(m_features)"
   ]
  },
  {
   "cell_type": "code",
   "execution_count": 17,
   "metadata": {
    "colab": {
     "base_uri": "https://localhost:8080/"
    },
    "id": "Z_nNfaRGdLGO",
    "outputId": "bdb79666-e291-4e4d-fa59-d2bbbeaecae0"
   },
   "outputs": [
    {
     "data": {
      "text/plain": [
       "array([[0.]])"
      ]
     },
     "execution_count": 17,
     "metadata": {},
     "output_type": "execute_result"
    }
   ],
   "source": [
    "W"
   ]
  },
  {
   "cell_type": "code",
   "execution_count": 18,
   "metadata": {
    "colab": {
     "base_uri": "https://localhost:8080/"
    },
    "id": "AVUfQgU3dRoj",
    "outputId": "c6e2f4bc-881a-4e36-8804-24075b4c8585"
   },
   "outputs": [
    {
     "data": {
      "text/plain": [
       "(1, 1)"
      ]
     },
     "execution_count": 18,
     "metadata": {},
     "output_type": "execute_result"
    }
   ],
   "source": [
    "W.shape"
   ]
  },
  {
   "cell_type": "code",
   "execution_count": 19,
   "metadata": {
    "colab": {
     "base_uri": "https://localhost:8080/"
    },
    "id": "PGyt_i05dT_r",
    "outputId": "a02f8921-3a1b-4355-ae25-2e928ba281bd"
   },
   "outputs": [
    {
     "data": {
      "text/plain": [
       "0"
      ]
     },
     "execution_count": 19,
     "metadata": {},
     "output_type": "execute_result"
    }
   ],
   "source": [
    "b"
   ]
  },
  {
   "cell_type": "markdown",
   "metadata": {
    "id": "SMLPcw7gNZ1d"
   },
   "source": [
    "\n",
    "\n",
    "### Крок 1: Обчислити лінійну комбінацію вхідних ознак та ваг, включаючи зсув\n",
    "\n"
   ]
  },
  {
   "cell_type": "code",
   "execution_count": 1,
   "metadata": {
    "id": "sHg5Sh8bdV3J",
    "tags": [
     "forwardPropagate"
    ]
   },
   "outputs": [],
   "source": [
    "# TODO\n",
    "def forwardPropagate(X, W, b):\n",
    "  \"\"\"\n",
    "  Ця функція обчислює лінійну комбінацію вхідних ознак та ваг, включаючи зсув\n",
    "\n",
    "  Параметри:\n",
    "  X -- вхідний вектор ознак форми (1, 375) \n",
    "  W -- вектор-рядок ваг форми (1, m)\n",
    "  b -- зсув моделі (скаляр)\n",
    "\n",
    "  Повертає:\n",
    "  z -- загальна зважена сума вхідних ознак, включаючи зсув\n",
    "  y_hat -- прогноз моделі\n",
    "  \"\"\"\n",
    "  \n",
    "  # BEGIN_YOUR_CODE \n",
    "  raise Exception(\"Not implemented yet\")\n",
    "  # END_YOUR_CODE"
   ]
  },
  {
   "cell_type": "code",
   "execution_count": 21,
   "metadata": {
    "id": "94IMy1_2dfuQ"
   },
   "outputs": [],
   "source": [
    "z, y_hat = forwardPropagate(X_train, W, b)"
   ]
  },
  {
   "cell_type": "code",
   "execution_count": 22,
   "metadata": {
    "colab": {
     "base_uri": "https://localhost:8080/"
    },
    "id": "JF67K5RJiEux",
    "outputId": "5f29e820-a24b-43d0-ce42-c45aa9884542"
   },
   "outputs": [
    {
     "data": {
      "text/plain": [
       "array([[0., 0., 0., 0., 0., 0., 0., 0., 0., 0., 0., 0., 0., 0., 0., 0.,\n",
       "        0., 0., 0., 0., 0., 0., 0., 0., 0., 0., 0., 0., 0., 0., 0., 0.,\n",
       "        0., 0., 0., 0., 0., 0., 0., 0., 0., 0., 0., 0., 0., 0., 0., 0.,\n",
       "        0., 0., 0., 0., 0., 0., 0., 0., 0., 0., 0., 0., 0., 0., 0., 0.,\n",
       "        0., 0., 0., 0., 0., 0., 0., 0., 0., 0., 0., 0., 0., 0., 0., 0.,\n",
       "        0., 0., 0., 0., 0., 0., 0., 0., 0., 0., 0., 0., 0., 0., 0., 0.,\n",
       "        0., 0., 0., 0., 0., 0., 0., 0., 0., 0., 0., 0., 0., 0., 0., 0.,\n",
       "        0., 0., 0., 0., 0., 0., 0., 0., 0., 0., 0., 0., 0., 0., 0., 0.,\n",
       "        0., 0., 0., 0., 0., 0., 0., 0., 0., 0., 0., 0., 0., 0., 0., 0.,\n",
       "        0., 0., 0., 0., 0., 0., 0., 0., 0., 0., 0., 0., 0., 0., 0., 0.,\n",
       "        0., 0., 0., 0., 0., 0., 0., 0., 0., 0., 0., 0., 0., 0., 0., 0.,\n",
       "        0., 0., 0., 0., 0., 0., 0., 0., 0., 0., 0., 0., 0., 0., 0., 0.,\n",
       "        0., 0., 0., 0., 0., 0., 0., 0., 0., 0., 0., 0., 0., 0., 0., 0.,\n",
       "        0., 0., 0., 0., 0., 0., 0., 0., 0., 0., 0., 0., 0., 0., 0., 0.,\n",
       "        0., 0., 0., 0., 0., 0., 0., 0., 0., 0., 0., 0., 0., 0., 0., 0.,\n",
       "        0., 0., 0., 0., 0., 0., 0., 0., 0., 0., 0., 0., 0., 0., 0., 0.,\n",
       "        0., 0., 0., 0., 0., 0., 0., 0., 0., 0., 0., 0., 0., 0., 0., 0.,\n",
       "        0., 0., 0., 0., 0., 0., 0., 0., 0., 0., 0., 0., 0., 0., 0., 0.,\n",
       "        0., 0., 0., 0., 0., 0., 0., 0., 0., 0., 0., 0., 0., 0., 0., 0.,\n",
       "        0., 0., 0., 0., 0., 0., 0., 0., 0., 0., 0., 0., 0., 0., 0., 0.,\n",
       "        0., 0., 0., 0., 0., 0., 0., 0., 0., 0., 0., 0., 0., 0., 0., 0.,\n",
       "        0., 0., 0., 0., 0., 0., 0., 0., 0., 0., 0., 0., 0., 0., 0., 0.,\n",
       "        0., 0., 0., 0., 0., 0., 0., 0., 0., 0., 0., 0., 0., 0., 0., 0.,\n",
       "        0., 0., 0., 0., 0., 0., 0.]])"
      ]
     },
     "execution_count": 22,
     "metadata": {},
     "output_type": "execute_result"
    }
   ],
   "source": [
    "z"
   ]
  },
  {
   "cell_type": "code",
   "execution_count": 23,
   "metadata": {
    "colab": {
     "base_uri": "https://localhost:8080/"
    },
    "id": "AqFrM7SwOatT",
    "outputId": "cd6682bb-5113-4910-a9aa-0521695d34a3"
   },
   "outputs": [
    {
     "data": {
      "text/plain": [
       "(1, 375)"
      ]
     },
     "execution_count": 23,
     "metadata": {},
     "output_type": "execute_result"
    }
   ],
   "source": [
    "y_hat.shape"
   ]
  },
  {
   "cell_type": "markdown",
   "metadata": {
    "id": "I1L7RqCHOShJ"
   },
   "source": [
    "### Крок 2: Обчислити усереднену втрату на всьому навчальному наборі даних. Цільова функція\n",
    "\n"
   ]
  },
  {
   "cell_type": "code",
   "execution_count": 24,
   "metadata": {
    "id": "YM5DZaGIl-ei",
    "tags": [
     "cost"
    ]
   },
   "outputs": [],
   "source": [
    "# TODO\n",
    "def cost(n, y_hat, y_true):\n",
    "  \"\"\"\n",
    "  Ця функція обчислює середнє квадратичне відхилення на всьому навчальному наборі даних\n",
    "\n",
    "  Параметри:\n",
    "  n -- загальна кількість навчальних прикладів \n",
    "  y_hat -- вихідне значення лінійної регресії\n",
    "  y_true -- істинне значення залежної змінної\n",
    "\n",
    "  Повертає:\n",
    "  J --  середнє квадратичне відхилення на всьому навчальному наборі даних\n",
    "  \"\"\"\n",
    "\n",
    "  # BEGIN_YOUR_CODE \n",
    "  raise Exception(\"Not implemented yet\")\n",
    "  # END_YOUR_CODE"
   ]
  },
  {
   "cell_type": "code",
   "execution_count": 25,
   "metadata": {
    "colab": {
     "base_uri": "https://localhost:8080/"
    },
    "id": "GVuroIbum_4L",
    "outputId": "71d90877-9034-4726-8b03-2ebd661246c4"
   },
   "outputs": [
    {
     "data": {
      "text/plain": [
       "66.45256981003433"
      ]
     },
     "execution_count": 25,
     "metadata": {},
     "output_type": "execute_result"
    }
   ],
   "source": [
    "J = cost(n_samples, y_hat, y_train)\n",
    "J"
   ]
  },
  {
   "cell_type": "markdown",
   "metadata": {
    "id": "bapG8TtdP4gK"
   },
   "source": [
    "### Крок 3: Розрахувати градієнти цільвої функції відносно ваг та зсуву"
   ]
  },
  {
   "cell_type": "code",
   "execution_count": 26,
   "metadata": {
    "id": "9K-Vn0mpiGng",
    "tags": [
     "backwardPropagate"
    ]
   },
   "outputs": [],
   "source": [
    "# TODO\n",
    "def backwardPropagate(n, X, y_hat, y_true):\n",
    "  \"\"\"\n",
    "  Ця функція обчислює градієнти цільвої функції відносно ваг та зсуву\n",
    "\n",
    "  Параметри:\n",
    "  n -- загальна кількість навчальних прикладів \n",
    "  X -- вхідний вектор ознак форми (1, 375)\n",
    "  y_hat --  вихідне значення лінійної регресії\n",
    "  y_true -- істинне значення залежної змінної\n",
    "\n",
    "  Повертає:\n",
    "  dW --  градієнт цільової функції відносно ваг моделі\n",
    "  db -- градієнт цільової функції відносно зсуву моделі\n",
    "  \"\"\"\n",
    "\n",
    "  # BEGIN_YOUR_CODE  \n",
    "  raise Exception(\"Not implemented yet\")\n",
    "  # END_YOUR_CODE"
   ]
  },
  {
   "cell_type": "code",
   "execution_count": 27,
   "metadata": {
    "id": "VirkpmD0o-1Q"
   },
   "outputs": [],
   "source": [
    "dW, db = backwardPropagate(n_samples, X_train, y_hat, y_train)"
   ]
  },
  {
   "cell_type": "code",
   "execution_count": 28,
   "metadata": {
    "colab": {
     "base_uri": "https://localhost:8080/"
    },
    "id": "z-nQYn1tqNRo",
    "outputId": "5ba58980-1729-42d7-8366-fea39b066b88"
   },
   "outputs": [
    {
     "data": {
      "text/plain": [
       "array([[-17.54481439]])"
      ]
     },
     "execution_count": 28,
     "metadata": {},
     "output_type": "execute_result"
    }
   ],
   "source": [
    "dW"
   ]
  },
  {
   "cell_type": "code",
   "execution_count": 29,
   "metadata": {
    "colab": {
     "base_uri": "https://localhost:8080/"
    },
    "id": "aLjgo0GdpMx0",
    "outputId": "d04b7ce0-87e4-45c7-8911-b55fcf49e423"
   },
   "outputs": [
    {
     "data": {
      "text/plain": [
       "(1, 1)"
      ]
     },
     "execution_count": 29,
     "metadata": {},
     "output_type": "execute_result"
    }
   ],
   "source": [
    "dW.shape"
   ]
  },
  {
   "cell_type": "code",
   "execution_count": 30,
   "metadata": {
    "colab": {
     "base_uri": "https://localhost:8080/"
    },
    "id": "8ZBTCeXdqFJA",
    "outputId": "020542a2-69c5-47e1-a823-138afb92bb56"
   },
   "outputs": [
    {
     "data": {
      "text/plain": [
       "-15.798772876862287"
      ]
     },
     "execution_count": 30,
     "metadata": {},
     "output_type": "execute_result"
    }
   ],
   "source": [
    "db"
   ]
  },
  {
   "cell_type": "code",
   "execution_count": 31,
   "metadata": {
    "colab": {
     "base_uri": "https://localhost:8080/"
    },
    "id": "DAkVSaLesD_8",
    "outputId": "371daa6b-7683-46c3-f83b-4d9bb57c61e8"
   },
   "outputs": [
    {
     "data": {
      "text/plain": [
       "()"
      ]
     },
     "execution_count": 31,
     "metadata": {},
     "output_type": "execute_result"
    }
   ],
   "source": [
    "db.shape"
   ]
  },
  {
   "cell_type": "markdown",
   "metadata": {
    "id": "7wzrFBQPSfL5"
   },
   "source": [
    "### Крок 4: Оновити ваги та зсув"
   ]
  },
  {
   "cell_type": "code",
   "execution_count": 32,
   "metadata": {
    "id": "SwacLBbFsKHZ",
    "tags": [
     "update"
    ]
   },
   "outputs": [],
   "source": [
    "# TODO\n",
    "def update(alpha, dW, db, W, b):\n",
    "  \"\"\"\n",
    "  Ця функція оновлює навчальні параметри моделі (ваги та зсув ) у напрямку мінімізації цільової функції\n",
    "\n",
    "  Параметри:\n",
    "  alpha -- швидкість  навчання (крок навчання)\n",
    "  dW --  градієнт цільової функції відносно ваг моделі\n",
    "  db -- градієнт цільової функції відносно зсуву моделі\n",
    "  W -- вектор-рядок ваг моделі форми (1, m)\n",
    "  b -- зсув моделі (скаляр)\n",
    "\n",
    "  Повертає:\n",
    "  W -- оновлений вектор-рядок ваг моделі форми (1, m)\n",
    "  b -- оновлений зсув моделі (скаляр)\n",
    "  \"\"\"\n",
    "\n",
    "\n",
    "  # BEGIN_YOUR_CODE  \n",
    "  raise Exception(\"Not implemented yet\")\n",
    "  # END_YOUR_CODE"
   ]
  },
  {
   "cell_type": "code",
   "execution_count": 33,
   "metadata": {
    "id": "7f-dOng9tKRy"
   },
   "outputs": [],
   "source": [
    "W, b = update(0.0001, dW, db, W, b)"
   ]
  },
  {
   "cell_type": "code",
   "execution_count": 34,
   "metadata": {
    "colab": {
     "base_uri": "https://localhost:8080/"
    },
    "id": "X681Y8JatVAi",
    "outputId": "904557ec-d2a0-4a58-932d-a2713372892f"
   },
   "outputs": [
    {
     "data": {
      "text/plain": [
       "array([[0.00175448]])"
      ]
     },
     "execution_count": 34,
     "metadata": {},
     "output_type": "execute_result"
    }
   ],
   "source": [
    "W"
   ]
  },
  {
   "cell_type": "code",
   "execution_count": 35,
   "metadata": {
    "colab": {
     "base_uri": "https://localhost:8080/"
    },
    "id": "oWrWtkXhtWl4",
    "outputId": "c085d920-f16b-422e-d1f0-4eaae835b6a9"
   },
   "outputs": [
    {
     "data": {
      "text/plain": [
       "0.0015798772876862287"
      ]
     },
     "execution_count": 35,
     "metadata": {},
     "output_type": "execute_result"
    }
   ],
   "source": [
    "b"
   ]
  },
  {
   "cell_type": "markdown",
   "metadata": {
    "id": "YdljmLW8ljv0"
   },
   "source": [
    "# Клас лінійної регресії"
   ]
  },
  {
   "cell_type": "code",
   "execution_count": 36,
   "metadata": {
    "id": "ULkK4_oGK5AP"
   },
   "outputs": [],
   "source": [
    "class LinearRegression:\n",
    "    \n",
    "    def __init__(self):\n",
    "        pass\n",
    "\n",
    "    def train_model(self, X, y, alpha=0.01, n_iters=100):\n",
    "        \"\"\"\n",
    "        Trains a linear regression model using gradient descent\n",
    "        \"\"\"\n",
    "        # Step 0: Initialize the parameters\n",
    "        n_features, n_samples = X.shape\n",
    "        self.W, self.b = parameters_inititalization(n_features)\n",
    "        costs = []\n",
    "\n",
    "        for i in range(n_iters):\n",
    "          \n",
    "          # Step 1: Compute a linear combination of the input features and weights\n",
    "          z, y_hat = forwardPropagate(X_train, self.W, self.b)\n",
    "\n",
    "          # Step 2: Compute cost over training set\n",
    "          J = cost(n_samples, y_hat, y_train)\n",
    "          costs.append(J)\n",
    "\n",
    "          if i % 20 == 0:\n",
    "            print(f\"Усереднена втрата моделі на ітерації {i}: {J}\")\n",
    "\n",
    "          # Step 3: Compute the gradients\n",
    "          dW, db = backwardPropagate(n_samples, X_train, y_hat, y_train) \n",
    "            \n",
    "          # Step 4: Update the parameters\n",
    "          self.W, self.b = update(alpha, dW, db, self.W, self.b)\n",
    "\n",
    "        return self.W, self.b, costs\n",
    "\n",
    "    def predict(self, X):\n",
    "        return np.dot(self.W, X) + self.b"
   ]
  },
  {
   "cell_type": "code",
   "execution_count": 37,
   "metadata": {
    "colab": {
     "base_uri": "https://localhost:8080/",
     "height": 751
    },
    "id": "lrAKvTbRLMJ8",
    "outputId": "1ea1d0ee-30b6-448f-9893-d334b07ff386"
   },
   "outputs": [
    {
     "name": "stdout",
     "output_type": "stream",
     "text": [
      "Усереднена втрата моделі на ітерації 0: 66.45256981003433\n",
      "Усереднена втрата моделі на ітерації 20: 28.75881484083611\n",
      "Усереднена втрата моделі на ітерації 40: 12.901884438489418\n",
      "Усереднена втрата моделі на ітерації 60: 6.223991246110849\n",
      "Усереднена втрата моделі на ітерації 80: 3.404903739019825\n",
      "Усереднена втрата моделі на ітерації 100: 2.2084346146095934\n",
      "Усереднена втрата моделі на ітерації 120: 1.6946510641188781\n",
      "Усереднена втрата моделі на ітерації 140: 1.4684503542539362\n",
      "Усереднена втрата моделі на ітерації 160: 1.3637291698923506\n",
      "Усереднена втрата моделі на ітерації 180: 1.310636979355444\n",
      "Усереднена втрата моделі на ітерації 200: 1.2797812854182806\n",
      "Усереднена втрата моделі на ітерації 220: 1.2587764605971372\n",
      "Усереднена втрата моделі на ітерації 240: 1.2423868920290344\n",
      "Усереднена втрата моделі на ітерації 260: 1.2283839450818483\n",
      "Усереднена втрата моделі на ітерації 280: 1.2158045034072278\n",
      "Усереднена втрата моделі на ітерації 300: 1.2042189195356685\n",
      "Усереднена втрата моделі на ітерації 320: 1.1934232356789232\n",
      "Усереднена втрата моделі на ітерації 340: 1.183309734600879\n",
      "Усереднена втрата моделі на ітерації 360: 1.1738124493611106\n",
      "Усереднена втрата моделі на ітерації 380: 1.164884183775867\n"
     ]
    },
    {
     "data": {
      "image/png": "[encoded data removed]",
      "text/plain": [
       "<Figure size 576x432 with 1 Axes>"
      ]
     },
     "metadata": {
      "needs_background": "light"
     },
     "output_type": "display_data"
    }
   ],
   "source": [
    "regressor = LinearRegression()\n",
    "w_trained, b_trained, costs = regressor.train_model(X_train, y_train, alpha=0.005, n_iters=400)\n",
    "\n",
    "fig = plt.figure(figsize=(8,6))\n",
    "plt.plot(np.arange(400), costs)\n",
    "plt.title(\"Зміна втрат моделі у ході навчання\")\n",
    "plt.xlabel(\"Кількість ітерацій\")\n",
    "plt.ylabel(\"Втрати\")\n",
    "plt.show()\n"
   ]
  },
  {
   "cell_type": "markdown",
   "metadata": {
    "id": "gIIYcY-UktkQ"
   },
   "source": [
    "# Тестування моделіі"
   ]
  },
  {
   "cell_type": "code",
   "execution_count": 38,
   "metadata": {
    "id": "bILRojcaeN5J"
   },
   "outputs": [],
   "source": [
    "y_hat_test = regressor.predict(X_test)"
   ]
  },
  {
   "cell_type": "code",
   "execution_count": 39,
   "metadata": {
    "colab": {
     "base_uri": "https://localhost:8080/",
     "height": 406
    },
    "id": "8fPLGyW4bYIC",
    "outputId": "bab8029c-5409-4797-c57a-fe2b06184cb5"
   },
   "outputs": [
    {
     "data": {
      "image/png": "[encoded data removed]",
      "text/plain": [
       "<Figure size 576x432 with 1 Axes>"
      ]
     },
     "metadata": {
      "needs_background": "light"
     },
     "output_type": "display_data"
    }
   ],
   "source": [
    "# Plot the test predictions\n",
    "\n",
    "fig = plt.figure(figsize=(8,6))\n",
    "plt.title(\" for test set in orange\")\n",
    "plt.scatter(X_train, y_train)\n",
    "plt.scatter(X_test, y_hat_test)\n",
    "plt.xlabel(\"$X$\")\n",
    "plt.ylabel(\"$y$\")\n",
    "plt.legend([\"Навчальний набір даних\" , \"Прогноз моделі\"])\n",
    "plt.show()"
   ]
  },
  {
   "cell_type": "markdown",
   "metadata": {
    "id": "SwXQUYwaXwic"
   },
   "source": [
    "\n",
    "\n",
    "Завдання завершено."
   ]
  }
 ],
 "metadata": {
  "celltoolbar": "Tags",
  "colab": {
   "collapsed_sections": [],
   "provenance": []
  },
  "kernelspec": {
   "display_name": "Python 3",
   "language": "python",
   "name": "python3"
  },
  "language_info": {
   "codemirror_mode": {
    "name": "ipython",
    "version": 3
   },
   "file_extension": ".py",
   "mimetype": "text/x-python",
   "name": "python",
   "nbconvert_exporter": "python",
   "pygments_lexer": "ipython3",
   "version": "3.7.3"
  }
 },
 "nbformat": 4,
 "nbformat_minor": 1
}
