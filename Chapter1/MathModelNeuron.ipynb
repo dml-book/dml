{
 "cells": [
  {
   "cell_type": "code",
   "execution_count": 1,
   "metadata": {
    "id": "BEpKzTlfuUb1"
   },
   "outputs": [],
   "source": [
    "import numpy as np\n",
    "m = 3"
   ]
  },
  {
   "cell_type": "code",
   "execution_count": 2,
   "metadata": {
    "colab": {
     "base_uri": "https://localhost:8080/"
    },
    "id": "ZqwLmBSqsU6h",
    "outputId": "b0751772-5bb2-4918-e492-041b1c38a7f4",
    "tags": [
     "input_signal"
    ]
   },
   "outputs": [
    {
     "name": "stdout",
     "output_type": "stream",
     "text": [
      "X = [[ 0.36910181]\n",
      " [ 0.49501913]\n",
      " [-0.3970563 ]]\n"
     ]
    }
   ],
   "source": [
    "import numpy as np\n",
    "m = 3\n",
    "\n",
    "def input_signal(m):\n",
    "  \"\"\"\n",
    "  Ця функція створює вектор випадкових чисел розмірністю (m, 1)\n",
    "  Аргументи:\n",
    "  m -- розмір вектора X або кількість вхідних сигналів\n",
    "  Повертає:\n",
    "  X -- вектор випадкових чисел розмірністю (m, 1)\n",
    "  \"\"\"\n",
    "\n",
    "  X = np.random.randn(m, 1)\n",
    "  return X\n",
    "\n",
    "X = input_signal(m)\n",
    "print(\"X = \" + str(X))"
   ]
  },
  {
   "cell_type": "code",
   "execution_count": 3,
   "metadata": {
    "colab": {
     "base_uri": "https://localhost:8080/"
    },
    "id": "14Dg_RkfydgW",
    "outputId": "663aff19-084f-4468-badd-9bba0e4e8a11",
    "tags": [
     "parameters_initialization"
    ]
   },
   "outputs": [
    {
     "name": "stdout",
     "output_type": "stream",
     "text": [
      "w.T = [[-0.40707941  0.32829049 -0.86712231]]\n",
      "b = 2\n"
     ]
    }
   ],
   "source": [
    "def parameters_initialization(m):\n",
    "  \"\"\"\n",
    "  Ця функція створює вектор випадкових чисел розмірністю (m, 1) \n",
    "  для w та ініціалізує b\n",
    "  Аргументи:\n",
    "  m -- розмір вектора w або кількість вагових коефіцієнтів\n",
    "  Повертає:\n",
    "  w -- вектор випадкових чисел розмірністю (m, 1)\n",
    "  b -- скаляр (відповідає за зміщення (bias))\n",
    "  \"\"\"\n",
    "\n",
    "  w = np.random.randn(m, 1)\n",
    "  b = 2\n",
    "  return w, b\n",
    "\n",
    "w, b = parameters_initialization(m)\n",
    "print(\"w.T = \" + str(w.T))\n",
    "print(\"b = \" + str(b))"
   ]
  },
  {
   "cell_type": "code",
   "execution_count": 4,
   "metadata": {
    "colab": {
     "base_uri": "https://localhost:8080/"
    },
    "id": "XzF2yOnnygs-",
    "outputId": "f99fe921-13f6-42d4-c507-17d082184f47",
    "tags": [
     "forwardPropagate"
    ]
   },
   "outputs": [
    {
     "name": "stdout",
     "output_type": "stream",
     "text": [
      "Сумарний сигнал = [[2.3565527]]\n",
      "Активація = [[0.91345366]]\n"
     ]
    }
   ],
   "source": [
    "def forwardPropagate(X, w, b):\n",
    "  \"\"\"\n",
    "  Ця функція знаходить сумарний вхідний сигнал та активаційне\n",
    "  значення для прямого поширення \n",
    "  Аргументи:\n",
    "  X -- вектор вхідних сигналів розмірністю (m, 1)\n",
    "  w -- вектор вагових коефіцієнтів (m, 1)\n",
    "  b -- скаляр, зміщення (bias)\n",
    "  Повертає:\n",
    "  z -- сумарний вхідний сигнал на нейроні\n",
    "  g -- активаційне вихідне значення сигмоїди\n",
    "  \"\"\"\n",
    "\n",
    "  z = np.dot(w.T, X) + b\n",
    "  g = 1 / (1 + np.exp(-z))\n",
    "  return z, g\n",
    "\n",
    "z, g = forwardPropagate(X, w, b)\n",
    "print(\"Сумарний сигнал = \" + str(z))\n",
    "print(\"Активація = \" + str(g))"
   ]
  }
 ],
 "metadata": {
  "celltoolbar": "Tags",
  "colab": {
   "collapsed_sections": [],
   "name": "MathModelNeuron.ipynb",
   "provenance": []
  },
  "kernelspec": {
   "display_name": "Python 3",
   "language": "python",
   "name": "python3"
  },
  "language_info": {
   "codemirror_mode": {
    "name": "ipython",
    "version": 3
   },
   "file_extension": ".py",
   "mimetype": "text/x-python",
   "name": "python",
   "nbconvert_exporter": "python",
   "pygments_lexer": "ipython3",
   "version": "3.8.5"
  }
 },
 "nbformat": 4,
 "nbformat_minor": 1
}
